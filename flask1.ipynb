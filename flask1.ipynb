{
 "cells": [
  {
   "cell_type": "code",
   "execution_count": 3,
   "id": "4a3dd654-64db-4206-88af-d0f568f2629a",
   "metadata": {},
   "outputs": [],
   "source": [
    "#Q1. What is Flask Framework? What are the advantages of Flask Framework?\n",
    "Flask is a micro web framework for Python. It is designed to be simple, lightweight, and easy to use, making it an excellent choice for building small to medium-sized web applications\n",
    "and APIs. Flask follows the WSGI (Web Server Gateway Interface) specification, allowing it to work with various web servers and platforms.\n",
    "\n",
    "advantages:\n",
    "easy to use\n",
    "flexible\n",
    "scalability\n",
    "compatibility\n"
   ]
  },
  {
   "cell_type": "code",
   "execution_count": 4,
   "id": "75a4c230-d123-49a9-b372-cfdd0639fe8e",
   "metadata": {},
   "outputs": [],
   "source": [
    "#Q2. Create a simple Flask application to display ‘Hello World!!’. Attach the screenshot of the output in\n",
    "#Jupyter Notebook.\n",
    "\n",
    "from flask import Flask\n",
    "\n",
    "app=Flask(__name__)\n",
    "\n",
    "@app.route('/')\n",
    "def hello():\n",
    "    return \"Hello world!!\"\n",
    "\n",
    "if __name__=='__main__':\n",
    "    app.run(debug=True)\n"
   ]
  },
  {
   "cell_type": "code",
   "execution_count": null,
   "id": "639cdc31-47ee-4297-ac37-97273de31739",
   "metadata": {},
   "outputs": [],
   "source": [
    "#Q3. What is App routing in Flask? Why do we use app routes?\n",
    "\n",
    "In Flask, app routing refers to the process of defining URL routes for different views or functions within a web application. When a client (e.g., a web browser or a mobile app) makes \n",
    "an HTTP request to the server, the app routing mechanism in Flask determines which view function should handle the request based on the URL requested by the client.\n"
   ]
  },
  {
   "cell_type": "code",
   "execution_count": null,
   "id": "10691b74-a605-43d1-a2a7-48a1357fbe52",
   "metadata": {},
   "outputs": [],
   "source": [
    "'''\n",
    "Q4. Create a “/welcome” route to display the welcome message “Welcome to ABC Corporation” and a “/”\n",
    "route to show the following details:\n",
    "Company Name: ABC Corporation\n",
    "Location: India\n",
    "Contact Detail: 999-999-9999\n",
    "'''\n",
    "\n",
    "from flask import FLASK\n",
    "\n",
    "app=FLASK(__name__)\n",
    "\n",
    "app.route('/welcome')\n",
    "def welcome():\n",
    "    return \"Welcome to ABC Corporation\"\n",
    "\n",
    "app.route('/')\n",
    "def index():\n",
    "    return \"Company Name: ABC Corporation\\n Location: India\\n Contact Detail: 999-999-9999\""
   ]
  },
  {
   "cell_type": "code",
   "execution_count": null,
   "id": "1ca892e7-c158-42fa-a384-3150496717fa",
   "metadata": {},
   "outputs": [],
   "source": [
    "'''\n",
    "Q5. What function is used in Flask for URL Building? Write a Python code to demonstrate the working of the\n",
    "url_for() function.\n",
    "'''\n",
    "\n",
    "In Flask, the url_for() function is used for URL building. It generates a URL for a given endpoint (view function) along with any associated arguments. This function is particularly \n",
    "useful when you want to generate URLs dynamically in your templates or code, without hardcoding the URLs.\n",
    "\n",
    "The url_for() function takes the endpoint name as its first argument and optional keyword arguments representing the variables or parameters used in the URL pattern. Flask uses the\n",
    "endpoint name to match it with the corresponding view function's name and generate the appropriate URL.\n"
   ]
  }
 ],
 "metadata": {
  "kernelspec": {
   "display_name": "Python 3 (ipykernel)",
   "language": "python",
   "name": "python3"
  },
  "language_info": {
   "codemirror_mode": {
    "name": "ipython",
    "version": 3
   },
   "file_extension": ".py",
   "mimetype": "text/x-python",
   "name": "python",
   "nbconvert_exporter": "python",
   "pygments_lexer": "ipython3",
   "version": "3.10.8"
  }
 },
 "nbformat": 4,
 "nbformat_minor": 5
}
