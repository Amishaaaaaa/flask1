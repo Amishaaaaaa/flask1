{
 "cells": [
  {
   "cell_type": "code",
   "execution_count": null,
   "id": "2a915833-b0f5-447c-ad56-337b8d914518",
   "metadata": {},
   "outputs": [],
   "source": [
    "#Q1. Explain GET and POST methods.\n",
    "\n",
    "GET and POST are two of the most commonly used HTTP methods used in web development for client-server communication.\n",
    "\n",
    "The GET method is used to retrieve data from the server. It is used when the client wants to request information from the server without modifying any data on the server.\n",
    "Data is sent through the URL's query parameters. The data is visible in the URL, making it less secure for sensitive information.\n",
    " GET requests can be cached by the browser, meaning that subsequent identical requests can be served from the browser's cache without hitting the server again.\n",
    "    \n",
    "The POST method is used to submit data to be processed to the server. It is commonly used for operations that create, update, or delete data on the server.\n"
   ]
  },
  {
   "cell_type": "code",
   "execution_count": null,
   "id": "8f69b885-be7e-4566-933e-8d36a6d23407",
   "metadata": {},
   "outputs": [],
   "source": [
    "#Q2. Why is request used in Flask?\n",
    "\n",
    "In Flask, the request object is used to access incoming client data from HTTP requests. It is a global object provided by Flask that encapsulates the details of the current HTTP request made by a client (e.g., a web browser or a mobile app). The request object allows Flask applications to interact with the data sent by the client in the form of query parameters, form data, JSON payloads, files, and more.\n"
   ]
  },
  {
   "cell_type": "code",
   "execution_count": null,
   "id": "dc06d52f-a625-421f-8287-ded6708c3e6c",
   "metadata": {},
   "outputs": [],
   "source": [
    "#Q3. Why is redirect() used in Flask?\n",
    "\n",
    "In Flask, the redirect() function is used to redirect the client's web browser to a different URL. It is a convenient way to handle certain scenarios in web applications, such as after form submissions, after login or logout, or to redirect users from one page to another."
   ]
  },
  {
   "cell_type": "code",
   "execution_count": null,
   "id": "b45cb9a5-2b05-4577-909b-d1acfa22cb49",
   "metadata": {},
   "outputs": [],
   "source": [
    "#Q4. What are templates in Flask? Why is the render_template() function used?\n",
    "\n",
    "In Flask, templates are files that contain dynamic content and HTML code, allowing developers to separate the presentation (HTML) from the application's logic (Python code). Templates play a crucial role in generating dynamic web pages by inserting data into placeholders and rendering the final HTML output to be sent to the client's web browser.\n"
   ]
  },
  {
   "cell_type": "code",
   "execution_count": null,
   "id": "24ec3ce8-e7f8-4b62-a9ea-569d3a9c54b5",
   "metadata": {},
   "outputs": [],
   "source": [
    "#Q5. Create a simple API. Use Postman to test it. Attach the screenshot of the output in the Jupyter Notebook.\n",
    "\n",
    "from flask import Flask, jsonify\n",
    "\n",
    "app = Flask(__name__)\n",
    "\n",
    "# Sample data (Replace this with data from your application/database)\n",
    "data = [\n",
    "    {\"id\": 1, \"name\": \"Product A\", \"price\": 10.99},\n",
    "    {\"id\": 2, \"name\": \"Product B\", \"price\": 5.99},\n",
    "    {\"id\": 3, \"name\": \"Product C\", \"price\": 15.99}\n",
    "]\n",
    "\n",
    "@app.route('/api/products', methods=['GET'])\n",
    "def get_products():\n",
    "    return jsonify(data)\n",
    "\n",
    "if __name__ == '__main__':\n",
    "    app.run()\n",
    "\n"
   ]
  }
 ],
 "metadata": {
  "kernelspec": {
   "display_name": "Python 3 (ipykernel)",
   "language": "python",
   "name": "python3"
  },
  "language_info": {
   "codemirror_mode": {
    "name": "ipython",
    "version": 3
   },
   "file_extension": ".py",
   "mimetype": "text/x-python",
   "name": "python",
   "nbconvert_exporter": "python",
   "pygments_lexer": "ipython3",
   "version": "3.10.8"
  }
 },
 "nbformat": 4,
 "nbformat_minor": 5
}
